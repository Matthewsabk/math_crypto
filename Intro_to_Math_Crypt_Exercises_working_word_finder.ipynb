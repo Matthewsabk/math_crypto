{
 "cells": [
  {
   "cell_type": "markdown",
   "metadata": {},
   "source": [
    "To improve my understanding and coding skills, I am utilizing python & jupyter notebooks to complete the exercises for Introduction to Mathematical Cryptography."
   ]
  },
  {
   "cell_type": "markdown",
   "metadata": {},
   "source": [
    "Needed modules:"
   ]
  },
  {
   "cell_type": "code",
   "execution_count": 3,
   "metadata": {},
   "outputs": [],
   "source": [
    "import math\n",
    "import pandas as pd\n",
    "import numpy as np\n",
    "from primePy import primes as pr\n",
    "import csv\n",
    "import re\n"
   ]
  },
  {
   "cell_type": "markdown",
   "metadata": {},
   "source": [
    "Needed constants:"
   ]
  },
  {
   "cell_type": "code",
   "execution_count": 60,
   "metadata": {},
   "outputs": [],
   "source": [
    "alphabet_string = \"abcdefghijklmnopqrstuvwxyz\"\n",
    "#the alphabet by positional index as a dictionary {index: letter}\n",
    "numeric_alphabet = {}\n",
    "#the alphabet as a dictionary {letter:index}\n",
    "alphabet_numeric = {}\n",
    "for n in range (0,26):\n",
    "    numeric_alphabet[n] = alphabet_string[n]\n",
    "    alphabet_numeric[alphabet_string[n]] = n\n",
    "# a list of the 1000 most common english language words from https://xkcd.com/simplewriter/words.js\n",
    "with open ('top1000words.txt') as file:\n",
    "    words_list = [word for line in file for word in line.split(\"|\")]\n",
    "words_list.append('a')\n",
    "words_list.append('i')\n",
    "words_list.append('test')\n",
    "words_list.append('strung')\n",
    "words_list.append('separated')\n",
    "words_list.append('secrets')\n",
    "words_list.append('shall')\n",
    "words_list.append('billboard')\n",
    "words_list.append('think')\n",
    "#print (words_list)"
   ]
  },
  {
   "cell_type": "markdown",
   "metadata": {},
   "source": [
    "After completing some of the exercises it became clear that I needed a tool to separate text strings back into their component words. Most distinct English words are less than 12 characters in length with a peak at 3 for word reuse and a peak at 7 for distinct words. 80% of words fall between 4 & 10 letters with the average at 7.6"
   ]
  },
  {
   "cell_type": "code",
   "execution_count": 61,
   "metadata": {},
   "outputs": [],
   "source": [
    "def word_finder (some_string):\n",
    "    message = []\n",
    "    message_words = {}\n",
    "    strings_to_check = {}\n",
    "    fragments_to_check = {}\n",
    "    #this loop sets up strings to check at each index - the potential start to each word.\n",
    "    for index in range (0, len(some_string)):\n",
    "        strings_to_check[index] = some_string[index: len(some_string)]\n",
    "        for index in strings_to_check.keys():\n",
    "            fragments_at_index =[]\n",
    "            for word_length in range (14,0, -1):\n",
    "                possible_fragment_word = strings_to_check[index][0: word_length]\n",
    "                fragments_at_index.append(possible_fragment_word)\n",
    "                fragments_to_check [index] = fragments_at_index\n",
    "    #print(fragments_to_check)\n",
    "    #this finds all the words at each potential index, descending order of length\n",
    "    for index in fragments_to_check.keys():\n",
    "        words_at_index = []\n",
    "        for fragment in fragments_to_check[index]:\n",
    "            if fragment in words_list:\n",
    "                words_at_index.append(fragment)\n",
    "                continue\n",
    "            message_words[index]= words_at_index\n",
    "    #print(message_words)\n",
    "    #This loop checks to see if there's a word at the next block for each length of word in the words at potential indices. If there's a not a word, then it moves to the next smaller word.\n",
    "    message_index = -1\n",
    "    for index in message_words.keys():\n",
    "        if message_index >= index:\n",
    "            #print ('index ' +str(index) + ' is smaller than skip '+str(message_index))\n",
    "            continue\n",
    "        for word in message_words[index]:\n",
    "            if index+len(word) >= len (message_words):\n",
    "                if message_words[index] != message[-1]:\n",
    "                    message.append(message_words[index][0])\n",
    "                    break\n",
    "                break\n",
    "            if message_words[index+len(word)] != []:\n",
    "                message_index += len(word)\n",
    "                message.append (word)\n",
    "                break\n",
    "    message_as_string = ' '. join(message)        \n",
    "    return(message_as_string)\n",
    "\n"
   ]
  },
  {
   "cell_type": "code",
   "execution_count": 46,
   "metadata": {},
   "outputs": [
    {
     "name": "stdout",
     "output_type": "stream",
     "text": [
      "this is a test of all the words strung together to be separated into pieces\n"
     ]
    }
   ],
   "source": [
    "test_string = \"thisisatestofallthewordsstrungtogethertobeseparatedintopieces\"\n",
    "test_chunks_strings = word_finder(test_string)\n",
    "print (test_chunks_strings)"
   ]
  },
  {
   "cell_type": "code",
   "execution_count": 47,
   "metadata": {},
   "outputs": [
    {
     "name": "stdout",
     "output_type": "stream",
     "text": [
      "there are no secrets better than the secrets that everybody guesses\n"
     ]
    }
   ],
   "source": [
    "#that didn't work on the first example I tried. Why not? \n",
    "test2_string = \"therearenosecretsbetterthanthesecretsthateverybodyguesses\"\n",
    "testing_2 = word_finder(test2_string)\n",
    "print(testing_2)\n",
    "#Because the word \"secrets\" isn't in the top 1000 words list. I need to update the words library to a longer library for this to work. "
   ]
  },
  {
   "cell_type": "markdown",
   "metadata": {},
   "source": [
    "Exercises: Chapter 1\n",
    "\n",
    "1.1 Simple Substitution Ciphers"
   ]
  },
  {
   "cell_type": "markdown",
   "metadata": {},
   "source": [
    "1.1 (a) Encrypt the following using a rotation of 11 clockwise.  \"A page of history is worth a volume of logic.\""
   ]
  },
  {
   "cell_type": "code",
   "execution_count": 70,
   "metadata": {},
   "outputs": [],
   "source": [
    "#clockwise shifts will be defined as positive, counterclockwise as negative\n",
    "def casear_encryption_wheel (plaintext, shift):\n",
    "    ciphertext = ''\n",
    "    #transform the shift into a positive rotation.\n",
    "    if shift <=0:\n",
    "        shift =0-shift\n",
    "    if shift >=26:\n",
    "        shift =shift%26\n",
    "    #strip the string of whitespace & punctuation and make it lowercase\n",
    "    plaintext_new = plaintext.lower()\n",
    "    plaintext_new = plaintext_new.replace(\" \",\"\")\n",
    "    plaintext_new = re.sub(r'[^\\w\\s]', '', plaintext_new)\n",
    "    #translate plaintext to numeric alphabet list\n",
    "    numeric_plaintext = []\n",
    "    for char in plaintext_new:\n",
    "        numeric_plaintext.append(alphabet_numeric[char])\n",
    "    #shift the letters by the intended cypher shift\n",
    "    numeric_ciphertext = []\n",
    "    for value in numeric_plaintext:\n",
    "        cipher_value = value+shift\n",
    "        cipher_value = cipher_value%26\n",
    "        numeric_ciphertext.append(cipher_value)\n",
    "    #shift the cipher numbers back to letters and a string\n",
    "    alphabetic_ciphertext = []\n",
    "    for value in numeric_ciphertext:\n",
    "        cipher_letter = numeric_alphabet[value]\n",
    "        cipher_letter_new = cipher_letter.upper()\n",
    "        alphabetic_ciphertext.append(cipher_letter_new)\n",
    "    for char in alphabetic_ciphertext:\n",
    "        ciphertext += char\n",
    "    return ciphertext"
   ]
  },
  {
   "cell_type": "code",
   "execution_count": 68,
   "metadata": {},
   "outputs": [
    {
     "name": "stdout",
     "output_type": "stream",
     "text": [
      "LALRPZQSTDEZCJTDHZCESLGZWFXPZQWZRTN\n"
     ]
    }
   ],
   "source": [
    "plaintext_1a = \"A page of history is worth a volume of logic.\"\n",
    "answer_1a = casear_encryption_wheel (plaintext_1a, 11)\n",
    "print (answer_1a)"
   ]
  },
  {
   "cell_type": "markdown",
   "metadata": {},
   "source": [
    "1.1 (b) Decrypt the following, which was encrypted using a rotation of 7 clockwise, \"AOLY LHYL UVZL JYLA ZILA ALYA OHUA OLZL JYLA ZAOH ALCL YFIV KFNB LZZL Z\""
   ]
  },
  {
   "cell_type": "code",
   "execution_count": 36,
   "metadata": {},
   "outputs": [],
   "source": [
    "def casear_decryption_wheel (ciphertext, encipher_shift):\n",
    "    plaintext = ''\n",
    "    #remove spaces & punctuation from ciphertext and lowercase for usability\n",
    "    ciphertext = ciphertext.lower()\n",
    "    ciphertext = ciphertext.replace(' ', '')\n",
    "    ciphertext = re.sub(r'[^\\w\\s]', '', ciphertext)\n",
    "    #translate ciphertext to numeric list\n",
    "    numeric_ciphertext = []\n",
    "    for char in ciphertext:\n",
    "        numeric_ciphertext.append(alphabet_numeric[char])\n",
    "    #shift cipher position by negative of enciphering value\n",
    "    decrypt_shift = (26-encipher_shift)%26\n",
    "    #apply the decrypt_shift to the numeric_ciphertext\n",
    "    numeric_plaintext = []\n",
    "    for num in numeric_ciphertext:\n",
    "        cipher_num = (num+decrypt_shift)%26\n",
    "        numeric_plaintext.append(cipher_num)\n",
    "    #translate it back to letters\n",
    "    plaintext_letters = []\n",
    "    for num in numeric_plaintext:\n",
    "        letter = numeric_alphabet[num]\n",
    "        plaintext_letters.append(letter)\n",
    "    #turn it into a string\n",
    "    for char in plaintext_letters:\n",
    "        plaintext +=char\n",
    "    return plaintext"
   ]
  },
  {
   "cell_type": "code",
   "execution_count": 38,
   "metadata": {},
   "outputs": [
    {
     "name": "stdout",
     "output_type": "stream",
     "text": [
      "therearenosecretsbetterthanthesecretsthateverybodyguesses\n",
      "there are better than an that hate ate everybody very body guesses\n"
     ]
    }
   ],
   "source": [
    "ciphertext_1b = \"AOLY LHYL UVZL JYLA ZILA ALYA OHUA OLZL JYLA ZAOH ALCL YFIV KFNB LZZL Z\"\n",
    "answer_1b_without_wordfinder = casear_decryption_wheel (ciphertext_1b, 7)\n",
    "print(answer_1b_without_wordfinder)\n",
    "answer_1b = word_finder(answer_1b_without_wordfinder)\n",
    "print(answer_1b)"
   ]
  },
  {
   "cell_type": "markdown",
   "metadata": {},
   "source": [
    "1.1 (c) Decrypt the following message which was encrypted by rotating 1 clockwise for the first letter, then 2 for the second, and so on. \"XJHR FTNZ HMZG AHIU ETXZ JNBW NUTR HEPO MDNB JMAU GORF AOIZ OCC\""
   ]
  },
  {
   "cell_type": "code",
   "execution_count": 49,
   "metadata": {},
   "outputs": [],
   "source": [
    "def rolling_casear_decryption_wheel (ciphertext, encipher_shift, increment_by):\n",
    "    plaintext = ''\n",
    "    #remove spaces & punctuation from ciphertext and lowercase for usability\n",
    "    ciphertext = ciphertext.lower()\n",
    "    ciphertext = ciphertext.replace(' ', '')\n",
    "    ciphertext = re.sub(r'[^\\w\\s]', '', ciphertext)\n",
    "    #translate ciphertext to numeric list\n",
    "    numeric_ciphertext = []\n",
    "    for char in ciphertext:\n",
    "        numeric_ciphertext.append(alphabet_numeric[char])\n",
    "    #shift cipher position by negative of enciphering value\n",
    "    decrypt_shift = (26-encipher_shift)%26\n",
    "    #apply the decrypt_shift to the numeric_ciphertext\n",
    "    numeric_plaintext = []\n",
    "    for num in numeric_ciphertext:\n",
    "        cipher_num = (num+decrypt_shift)%26\n",
    "        numeric_plaintext.append(cipher_num)\n",
    "        decrypt_shift -= increment_by\n",
    "    #translate it back to letters\n",
    "    plaintext_letters = []\n",
    "    for num in numeric_plaintext:\n",
    "        letter = numeric_alphabet[num]\n",
    "        plaintext_letters.append(letter)\n",
    "    #turn it into a string\n",
    "    for char in plaintext_letters:\n",
    "        plaintext +=char\n",
    "    return plaintext"
   ]
  },
  {
   "cell_type": "code",
   "execution_count": 51,
   "metadata": {},
   "outputs": [
    {
     "name": "stdout",
     "output_type": "stream",
     "text": [
      "whenangrycounttenbeforeyouspeakifveryangryanhundred\n",
      "when angry count ten before you speak if very angry an hundred red\n"
     ]
    }
   ],
   "source": [
    "ciphertext_1c = \"XJHR FTNZ HMZG AHIU ETXZ JNBW NUTR HEPO MDNB JMAU GORF AOIZ OCC\"\n",
    "answer_1c = rolling_casear_decryption_wheel(ciphertext_1c, 1, 1)\n",
    "print(answer_1c)\n",
    "answer_1c = word_finder(answer_1c)\n",
    "print(answer_1c)"
   ]
  },
  {
   "cell_type": "markdown",
   "metadata": {},
   "source": [
    "1.2 Decrypt each of the following by trying various possible shifts until you arrive at readable text:"
   ]
  },
  {
   "cell_type": "code",
   "execution_count": 53,
   "metadata": {},
   "outputs": [],
   "source": [
    "# This is a brute force method for the casear cipher, in order to be highly usable it needs a spellchecker to establish which output is correct so that it doesn't spit out 26 of them.\n",
    "def brutus_casear_wheel (ciphertext):\n",
    "    all_shifts_plaintext_possible = []\n",
    "    for shift_number in range (0, 26):\n",
    "        possible_plaintext = casear_decryption_wheel(ciphertext, shift_number)\n",
    "        all_shifts_plaintext_possible.append(possible_plaintext)\n",
    "    return all_shifts_plaintext_possible\n",
    "# iterate through the common word lengths and check those letter combinations against a dictionary of words\n",
    " \n"
   ]
  },
  {
   "cell_type": "markdown",
   "metadata": {},
   "source": [
    "1.2 (a) \"LWKLQNWKDWLVKDOOQHYHUVHHDELOOERDUGORYHOBDVDWUHH\""
   ]
  },
  {
   "cell_type": "code",
   "execution_count": 62,
   "metadata": {},
   "outputs": [
    {
     "name": "stdout",
     "output_type": "stream",
     "text": [
      "lwklqnwkdwlvkdooqhyhuvhhdelooerdugoryhobdvdwuhh\n",
      "\n",
      "kvjkpmvjcvkujcnnpgxgtuggcdknndqctfnqxgnacucvtgg\n",
      "\n",
      "juijoluibujtibmmofwfstffbcjmmcpbsempwfmzbtbusff\n",
      "\n",
      "ithinkthatishallneverseeabillboardlovelyasatree\n",
      "it that hat is shall never see a billboard as a tree\n",
      "hsghmjsgzshrgzkkmdudqrddzahkkanzqcknudkxzrzsqdd\n",
      "\n",
      "grfglirfyrgqfyjjlctcpqccyzgjjzmypbjmtcjwyqyrpcc\n",
      "\n",
      "fqefkhqexqfpexiikbsbopbbxyfiiylxoailsbivxpxqobb\n",
      "i i a\n",
      "epdejgpdwpeodwhhjaranoaawxehhxkwnzhkrahuwowpnaa\n",
      "a a no a a\n",
      "docdifocvodncvggizqzmnzzvwdggwjvmygjqzgtvnvomzz\n",
      "\n",
      "cnbchenbuncmbuffhypylmyyuvcffviulxfipyfsumunlyy\n",
      "\n",
      "bmabgdmatmblateegxoxklxxtubeeuhtkwehoxertltmkxx\n",
      "\n",
      "alzafclzslakzsddfwnwjkwwstaddtgsjvdgnwdqsksljww\n",
      "\n",
      "zkyzebkyrkzjyrccevmvijvvrszccsfriucfmvcprjrkivv\n",
      "\n",
      "yjxydajxqjyixqbbduluhiuuqrybbreqhtbeluboqiqjhuu\n",
      "\n",
      "xiwxcziwpixhwpaactktghttpqxaaqdpgsadktanphpigtt\n",
      "a a\n",
      "whvwbyhvohwgvozzbsjsfgssopwzzpcofrzcjszmogohfss\n",
      "\n",
      "vguvaxgungvfunyyarirefrrnovyyobneqybirylnfngerr\n",
      "\n",
      "uftuzwftmfuetmxxzqhqdeqqmnuxxnamdpxahqxkmemfdqq\n",
      "\n",
      "testyvesletdslwwypgpcdpplmtwwmzlcowzgpwjldlecpp\n",
      "\n",
      "sdrsxudrkdscrkvvxofobcooklsvvlykbnvyfovikckdboo\n",
      "\n",
      "rcqrwtcqjcrbqjuuwnenabnnjkruukxjamuxenuhjbjcann\n",
      "\n",
      "qbpqvsbpibqapittvmdmzammijqttjwizltwdmtgiaibzmm\n",
      "it i a\n",
      "paopuraohapzohssulclyzllhipssivhyksvclsfhzhayll\n",
      "a oh\n",
      "oznotqzngzoyngrrtkbkxykkghorrhugxjrubkregygzxkk\n",
      "\n",
      "nymnspymfynxmfqqsjajwxjjfgnqqgtfwiqtajqdfxfywjj\n",
      "\n",
      "mxlmroxlexmwlepprizivwiiefmppfsevhpszipcewexvii\n",
      "i i\n"
     ]
    }
   ],
   "source": [
    "ciphertext_2a = 'LWKLQNWKDWLVKDOOQHYHUVHHDELOOERDUGORYHOBDVDWUHH'\n",
    "answer_2a = brutus_casear_wheel(ciphertext_2a)\n",
    "for item in answer_2a:\n",
    "    test_answer = word_finder(item)\n",
    "    print(item)\n",
    "    print (test_answer)\n"
   ]
  },
  {
   "cell_type": "markdown",
   "metadata": {},
   "source": [
    "ANSWER 1.2 (a) \"I think that I shall never see a billboard lovely as a tree.\""
   ]
  },
  {
   "cell_type": "markdown",
   "metadata": {},
   "source": [
    "1.2 (b) \"UXENRBWXCUXENFQRLQJUCNABFQNWRCJUCNAJCRXWORWMB\""
   ]
  },
  {
   "cell_type": "code",
   "execution_count": 104,
   "metadata": {},
   "outputs": [
    {
     "name": "stdout",
     "output_type": "stream",
     "text": [
      "['uxenrbwxcuxenfqrlqjucnabfqnwrcjucnajcrxworwmb', 'twdmqavwbtwdmepqkpitbmzaepmvqbitbmzibqwvnqvla', 'svclpzuvasvcldopjohsalyzdolupahsalyhapvumpukz', 'rubkoytuzrubkcnoingrzkxycnktozgrzkxgzoutlotjy', 'qtajnxstyqtajbmnhmfqyjwxbmjsnyfqyjwfyntsknsix', 'pszimwrsxpszialmglepxivwalirmxepxivexmsrjmrhw', 'oryhlvqrworyhzklfkdowhuvzkhqlwdowhudwlrqilqgv', 'nqxgkupqvnqxgyjkejcnvgtuyjgpkvcnvgtcvkqphkpfu', 'mpwfjtopumpwfxijdibmufstxifojubmufsbujpogjoet', 'loveisnotlovewhichalterswhenitalterationfinds', 'knudhrmnsknudvghbgzksdqrvgdmhszksdqzshnmehmcr', 'jmtcgqlmrjmtcufgafyjrcpqufclgryjrcpyrgmldglbq', 'ilsbfpklqilsbtefzexiqboptebkfqxiqboxqflkcfkap', 'hkraeojkphkrasdeydwhpanosdajepwhpanwpekjbejzo', 'gjqzdnijogjqzrcdxcvgozmnrczidovgozmvodjiadiyn', 'fipycmhinfipyqbcwbufnylmqbyhcnufnyluncihzchxm', 'ehoxblghmehoxpabvatemxklpaxgbmtemxktmbhgybgwl', 'dgnwakfgldgnwozauzsdlwjkozwfalsdlwjslagfxafvk', 'cfmvzjefkcfmvnyztyrckvijnyvezkrckvirkzfewzeuj', 'beluyidejbelumxysxqbjuhimxudyjqbjuhqjyedvydti', 'adktxhcdiadktlwxrwpaitghlwtcxipaitgpixdcuxcsh', 'zcjswgbchzcjskvwqvozhsfgkvsbwhozhsfohwcbtwbrg', 'ybirvfabgybirjuvpunygrefjuravgnygrengvbasvaqf', 'xahquezafxahqituotmxfqdeitqzufmxfqdmfuazruzpe', 'wzgptdyzewzgphstnslwepcdhspytelwepcletzyqtyod', 'vyfoscxydvyfogrsmrkvdobcgroxsdkvdobkdsyxpsxnc']\n"
     ]
    }
   ],
   "source": [
    "ciphertext_2b = \"UXENRBWXCUXENFQRLQJUCNABFQNWRCJUCNAJCRXWORWMB\"\n",
    "answer_2b = brutus_casear_wheel(ciphertext_2b)\n",
    "print (answer_2b)"
   ]
  },
  {
   "cell_type": "markdown",
   "metadata": {},
   "source": [
    "ANSWER 1.2 (b) \"Love is not love which alters when it alteration finds\""
   ]
  },
  {
   "cell_type": "markdown",
   "metadata": {},
   "source": [
    "1.2 (c) \"BGUTBMBGZTFHNLXMKTIPBMAVAXXLXTEPTRLEXTOXKHHFYHKMAXFHNLX\""
   ]
  }
 ],
 "metadata": {
  "kernelspec": {
   "display_name": "Python 3.10.6 64-bit",
   "language": "python",
   "name": "python3"
  },
  "language_info": {
   "codemirror_mode": {
    "name": "ipython",
    "version": 3
   },
   "file_extension": ".py",
   "mimetype": "text/x-python",
   "name": "python",
   "nbconvert_exporter": "python",
   "pygments_lexer": "ipython3",
   "version": "3.10.6"
  },
  "orig_nbformat": 4,
  "vscode": {
   "interpreter": {
    "hash": "916dbcbb3f70747c44a77c7bcd40155683ae19c65e1c03b4aa3499c5328201f1"
   }
  }
 },
 "nbformat": 4,
 "nbformat_minor": 2
}
