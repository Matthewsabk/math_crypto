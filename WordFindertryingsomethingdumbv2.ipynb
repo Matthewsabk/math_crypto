{
 "cells": [
  {
   "cell_type": "markdown",
   "metadata": {},
   "source": [
    "This is a separated python file for the task of separating strings of letters all smashed together without spaces in to words and testing those words for sentence structures. It is an ongoing project and useful tool in conjunction with the Math_crypto lessons. "
   ]
  },
  {
   "cell_type": "code",
   "execution_count": 1,
   "metadata": {},
   "outputs": [],
   "source": [
    "import math\n",
    "import pandas as pd\n",
    "import numpy as np\n",
    "from primePy import primes as pr\n",
    "import csv\n",
    "import re"
   ]
  },
  {
   "cell_type": "code",
   "execution_count": 2,
   "metadata": {},
   "outputs": [],
   "source": [
    "alphabet_string = \"abcdefghijklmnopqrstuvwxyz\"\n",
    "#the alphabet by positional index as a dictionary {index: letter}\n",
    "numeric_alphabet = {}\n",
    "#the alphabet as a dictionary {letter:index}\n",
    "alphabet_numeric = {}\n",
    "for n in range (0,26):\n",
    "    numeric_alphabet[n] = alphabet_string[n]\n",
    "    alphabet_numeric[alphabet_string[n]] = n\n",
    "# a list of the 1000 most common english language words from https://xkcd.com/simplewriter/words.js\n",
    "with open ('top1000words.txt') as file:\n",
    "    words_list = [word for line in file for word in line.split(\"|\")]\n",
    "words_list.append('a')\n",
    "words_list.append('i')\n",
    "words_list.append('test')\n",
    "words_list.append('strung')\n",
    "words_list.append('separated')\n",
    "words_list.append('secrets')\n",
    "words_list.append('shall')\n",
    "words_list.append('billboard')\n",
    "words_list.append('think')\n",
    "#print (words_list)"
   ]
  },
  {
   "cell_type": "code",
   "execution_count": 9,
   "metadata": {},
   "outputs": [],
   "source": [
    "def word_finder (some_string):\n",
    "    message = []\n",
    "    message_words = {}\n",
    "    strings_to_check = {}\n",
    "    fragments_to_check = {}\n",
    "    #print(len(some_string))\n",
    "    #this loop sets up strings to check at each index - the potential start to each word.\n",
    "    for index in range (0, len(some_string)):\n",
    "        strings_to_check[index] = some_string[index: len(some_string)]\n",
    "        for index in strings_to_check.keys():\n",
    "            fragments_at_index =[]\n",
    "            for word_length in range (14,0, -1):\n",
    "                possible_fragment_word = strings_to_check[index][0: word_length]\n",
    "                fragments_at_index.append(possible_fragment_word)\n",
    "                fragments_to_check [index] = fragments_at_index\n",
    "    #this finds all the words at each potential index, descending order of length\n",
    "    for index in fragments_to_check.keys():\n",
    "        words_at_index = []\n",
    "        for fragment in fragments_to_check[index]:\n",
    "            if fragment in words_list:\n",
    "                words_at_index.append(fragment)\n",
    "                continue\n",
    "            words_at_index = [*set(words_at_index)]\n",
    "            message_words[index]= words_at_index\n",
    "    #This loop checks to see if there's a word at the next block for each length of word in the words at potential indices. If there's a not a word, then it moves to the next smaller word.\n",
    "    letter_count=0\n",
    "    for index in message_words.keys():\n",
    "        if letter_count == len(some_string):\n",
    "            break\n",
    "        for word in message_words[letter_count]:\n",
    "            if letter_count+len(word) >= len (message_words):\n",
    "                if message_words[letter_count] != message[-1]:\n",
    "                    message.append(message_words[letter_count][0])\n",
    "                    letter_count+=len(word)\n",
    "                    #print('letter_count = '+ str(letter_count))\n",
    "                    break\n",
    "                break\n",
    "            if message_words[letter_count+len(word)] != []:\n",
    "                message.append (word)\n",
    "                letter_count+= len(word)\n",
    "                #print('letter_count = '+ str(letter_count))\n",
    "                break\n",
    "    message_as_string = ' '. join(message)        \n",
    "    return(message_as_string)\n",
    "\n"
   ]
  },
  {
   "cell_type": "markdown",
   "metadata": {},
   "source": [
    "This first example encountered the problem of a too small corpus of words. The corpus of the most used 1000 words didn't include I, a, test, strung, or separated. I manually added those words to the word list and it was able to "
   ]
  },
  {
   "cell_type": "code",
   "execution_count": 10,
   "metadata": {},
   "outputs": [
    {
     "name": "stdout",
     "output_type": "stream",
     "text": [
      "this is a test of all the words strung to get her to be separated into pieces\n"
     ]
    }
   ],
   "source": [
    "test_string = \"thisisatestofallthewordsstrungtogethertobeseparatedintopieces\"\n",
    "test_chunks_strings = word_finder(test_string)\n",
    "print (test_chunks_strings)"
   ]
  },
  {
   "cell_type": "code",
   "execution_count": 22,
   "metadata": {},
   "outputs": [
    {
     "name": "stdout",
     "output_type": "stream",
     "text": [
      "57\n",
      "letter_count = 5\n",
      "letter_count = 8\n",
      "letter_count = 10\n",
      "letter_count = 17\n",
      "letter_count = 23\n",
      "letter_count = 27\n",
      "letter_count = 30\n",
      "letter_count = 37\n",
      "letter_count = 41\n",
      "letter_count = 46\n",
      "letter_count = 50\n",
      "letter_count = 57\n",
      "there are no secrets better than the secrets that every body guesses\n"
     ]
    }
   ],
   "source": [
    "#that didn't work on the first example I tried. Why not? \n",
    "test2_string = \"therearenosecretsbetterthanthesecretsthateverybodyguesses\"\n",
    "testing_2 = word_finder(test2_string)\n",
    "print(testing_2)\n",
    "#Because the word \"secrets\" isn't in the top 1000 words list. I need to update the words library to a longer library for this to work. "
   ]
  },
  {
   "cell_type": "code",
   "execution_count": 23,
   "metadata": {},
   "outputs": [
    {
     "name": "stdout",
     "output_type": "stream",
     "text": [
      "51\n",
      "letter_count = 4\n",
      "letter_count = 9\n",
      "letter_count = 14\n",
      "letter_count = 17\n",
      "letter_count = 23\n",
      "letter_count = 26\n",
      "letter_count = 31\n",
      "letter_count = 33\n",
      "letter_count = 37\n",
      "letter_count = 42\n",
      "letter_count = 44\n",
      "letter_count = 51\n",
      "when angry count ten before you speak if very angry an hundred\n"
     ]
    }
   ],
   "source": [
    "#this one fails because it catches the word 'red' at the tail end of 'hundred'\n",
    "test3_string = \"whenangrycounttenbeforeyouspeakifveryangryanhundred\"\n",
    "testing_3 = word_finder(test3_string)\n",
    "print(testing_3)\n",
    "#the solution to was to establish a letter count such that they must total the number of letters in the original string and stop if it will exceed."
   ]
  },
  {
   "cell_type": "code",
   "execution_count": 24,
   "metadata": {},
   "outputs": [
    {
     "name": "stdout",
     "output_type": "stream",
     "text": [
      "47\n",
      "letter_count = 2\n",
      "it\n"
     ]
    }
   ],
   "source": [
    "#this one fails because the first word it tests is 'it' instead of 'i', then it finds 'hi' at index 2 instead of 'think' at index 1.\n",
    "#using the letter count added above, it should be possible to \n",
    "test4_string = \"ithinkthatishallneverseeabillboardlovelyasatree\"\n",
    "testing_4 = word_finder(test4_string)\n",
    "print(testing_4)"
   ]
  },
  {
   "cell_type": "code",
   "execution_count": null,
   "metadata": {},
   "outputs": [],
   "source": []
  }
 ],
 "metadata": {
  "kernelspec": {
   "display_name": "Python 3.10.6 64-bit",
   "language": "python",
   "name": "python3"
  },
  "language_info": {
   "codemirror_mode": {
    "name": "ipython",
    "version": 3
   },
   "file_extension": ".py",
   "mimetype": "text/x-python",
   "name": "python",
   "nbconvert_exporter": "python",
   "pygments_lexer": "ipython3",
   "version": "3.10.6"
  },
  "orig_nbformat": 4,
  "vscode": {
   "interpreter": {
    "hash": "916dbcbb3f70747c44a77c7bcd40155683ae19c65e1c03b4aa3499c5328201f1"
   }
  }
 },
 "nbformat": 4,
 "nbformat_minor": 2
}
